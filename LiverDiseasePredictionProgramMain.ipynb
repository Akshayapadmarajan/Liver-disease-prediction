{
 "cells": [
  {
   "cell_type": "code",
   "execution_count": 15,
   "id": "bc88248c",
   "metadata": {},
   "outputs": [],
   "source": [
    "import pandas as pdLib "
   ]
  },
  {
   "cell_type": "code",
   "execution_count": 16,
   "id": "ba0f2b69",
   "metadata": {},
   "outputs": [],
   "source": [
    "\n",
    "lDdata = pdLib.read_csv(\"LiverDiseaseDataset.csv\")"
   ]
  },
  {
   "cell_type": "markdown",
   "id": "50f6ad82",
   "metadata": {},
   "source": [
    "# Preparing Data"
   ]
  },
  {
   "cell_type": "code",
   "execution_count": 17,
   "id": "c4891035",
   "metadata": {},
   "outputs": [
    {
     "data": {
      "text/plain": [
       "Category     0\n",
       "Age          0\n",
       "Sex          0\n",
       "ALB          1\n",
       "ALP         18\n",
       "ALT          1\n",
       "AST          0\n",
       "BIL          0\n",
       "CHE          0\n",
       "CHOL        10\n",
       "CREA         0\n",
       "GGT          0\n",
       "PROT         1\n",
       "dtype: int64"
      ]
     },
     "execution_count": 17,
     "metadata": {},
     "output_type": "execute_result"
    }
   ],
   "source": [
    "#1.\n",
    "lDdata.drop(\"Unnamed: 0\" , axis = 1 , inplace=True) # remove the unused columns\n",
    "#2.\n",
    "lDdata.isna().sum()\n",
    "\n"
   ]
  },
  {
   "cell_type": "code",
   "execution_count": 18,
   "id": "05e3734a",
   "metadata": {},
   "outputs": [
    {
     "data": {
      "text/plain": [
       "Category    0\n",
       "Age         0\n",
       "Sex         0\n",
       "ALB         0\n",
       "ALP         0\n",
       "ALT         0\n",
       "AST         0\n",
       "BIL         0\n",
       "CHE         0\n",
       "CHOL        0\n",
       "CREA        0\n",
       "GGT         0\n",
       "PROT        0\n",
       "dtype: int64"
      ]
     },
     "execution_count": 18,
     "metadata": {},
     "output_type": "execute_result"
    }
   ],
   "source": [
    "#3.\n",
    "lDdata.fillna(lDdata.median(numeric_only=True) ,inplace=True)\n",
    "lDdata.isna().sum()\n",
    "#5.\n",
    "#6."
   ]
  },
  {
   "cell_type": "code",
   "execution_count": null,
   "id": "2863264e",
   "metadata": {},
   "outputs": [],
   "source": []
  }
 ],
 "metadata": {
  "kernelspec": {
   "display_name": "Python 3 (ipykernel)",
   "language": "python",
   "name": "python3"
  },
  "language_info": {
   "codemirror_mode": {
    "name": "ipython",
    "version": 3
   },
   "file_extension": ".py",
   "mimetype": "text/x-python",
   "name": "python",
   "nbconvert_exporter": "python",
   "pygments_lexer": "ipython3",
   "version": "3.10.9"
  }
 },
 "nbformat": 4,
 "nbformat_minor": 5
}
