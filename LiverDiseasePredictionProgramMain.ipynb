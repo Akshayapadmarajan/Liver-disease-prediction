{
 "cells": [
  {
   "cell_type": "code",
   "execution_count": 15,
   "id": "3664bcb3",
   "metadata": {},
   "outputs": [],
   "source": [
    "import pandas as pdLib "
   ]
  },
  {
   "cell_type": "code",
   "execution_count": 16,
   "id": "37ca0c3a",
   "metadata": {},
   "outputs": [],
   "source": [
    "\n",
    "lDdata = pdLib.read_csv(\"LiverDiseaseDataset.csv\")"
   ]
  },
  {
   "cell_type": "markdown",
   "id": "afa6539b",
   "metadata": {},
   "source": [
    "# Preparing Data"
   ]
  },
  {
   "cell_type": "code",
   "execution_count": 17,
   "id": "3fbdd475",
   "metadata": {},
   "outputs": [
    {
     "data": {
      "text/plain": [
       "Category     0\n",
       "Age          0\n",
       "Sex          0\n",
       "ALB          1\n",
       "ALP         18\n",
       "ALT          1\n",
       "AST          0\n",
       "BIL          0\n",
       "CHE          0\n",
       "CHOL        10\n",
       "CREA         0\n",
       "GGT          0\n",
       "PROT         1\n",
       "dtype: int64"
      ]
     },
     "execution_count": 17,
     "metadata": {},
     "output_type": "execute_result"
    }
   ],
   "source": [
    "#1.\n",
    "lDdata.drop(\"Unnamed: 0\" , axis = 1 , inplace=True) # remove the unused columns\n",
    "#2.\n",
    "lDdata.isna().sum()\n",
    "\n"
   ]
  },
  {
   "cell_type": "code",
   "execution_count": 19,
   "id": "fb023c64",
   "metadata": {},
   "outputs": [
    {
     "name": "stdout",
     "output_type": "stream",
     "text": [
      "Duplicated Records: 0\n"
     ]
    }
   ],
   "source": [
    "#3.\n",
    "lDdata.fillna(lDdata.median(numeric_only=True) ,inplace=True)\n",
    "lDdata.isna().sum()\n",
    "#4.\n",
    "# duplicates value check\n",
    "dupRws = lDdata.duplicated().sum()\n",
    "print(f\"Duplicated Records: {dupRws}\")\n"
   ]
  },
  {
   "cell_type": "markdown",
   "id": "08e74377",
   "metadata": {},
   "source": [
    "# Data Exploration"
   ]
  },
  {
   "cell_type": "code",
   "execution_count": null,
   "id": "16ddd1d3",
   "metadata": {},
   "outputs": [],
   "source": []
  }
 ],
 "metadata": {
  "kernelspec": {
   "display_name": "Python 3 (ipykernel)",
   "language": "python",
   "name": "python3"
  },
  "language_info": {
   "codemirror_mode": {
    "name": "ipython",
    "version": 3
   },
   "file_extension": ".py",
   "mimetype": "text/x-python",
   "name": "python",
   "nbconvert_exporter": "python",
   "pygments_lexer": "ipython3",
   "version": "3.10.9"
  }
 },
 "nbformat": 4,
 "nbformat_minor": 5
}
